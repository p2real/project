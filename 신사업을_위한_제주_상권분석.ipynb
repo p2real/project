{
  "nbformat": 4,
  "nbformat_minor": 0,
  "metadata": {
    "colab": {
      "name": "신사업을 위한 제주 상권분석.ipynb",
      "provenance": [],
      "collapsed_sections": []
    },
    "kernelspec": {
      "name": "python3",
      "display_name": "Python 3"
    },
    "language_info": {
      "name": "python"
    }
  },
  "cells": [
    {
      "cell_type": "markdown",
      "metadata": {
        "id": "fPw_TIt-6E-G"
      },
      "source": [
        "# **제주 상권분석을 통한 수익 극대화 비즈니스 인사이트 도출**\n",
        "\n",
        "\n"
      ]
    },
    {
      "cell_type": "markdown",
      "metadata": {
        "id": "KL3AQkWAIX2C"
      },
      "source": [
        "# 1. 분석의 목적\n",
        "\n",
        " 제주도 상권을 분석하고, 재난지원금 사용기간 동안 총매출과 지원금 사용액을 비교하여 매출에 미친 영향을 분석, 해당 상권별 부동산 가치를 도출한다. 상권별 임대료를 기준으로 대표적인 부동산을 추출하고, 과거 해당 부동산의 매매, 임대 추이를 통해 부동산 매입, 임대하는 경우와 임차인으로서 장사를 하는 경우의 이익을 비교한다. 결과적으로, 최종 분석을 통해 이익을 극대화할 비즈니스 모델을 만들어 보려 한다."
      ]
    },
    {
      "cell_type": "markdown",
      "metadata": {
        "id": "9sOZjD0WImmS"
      },
      "source": [
        "# 2. 가설 설정\n",
        "1. 임대료가 높을수록 도심지역에 위치할 것이다.\n",
        "2. 주요 도심 상권의 상가 순영업소득이 높을 것이다.\n",
        "3. 도심지역 거주민의 월평균 소득이 높을 것이다.\n",
        "4. 도심지역, 상권형성 지역의 거주자 수가 많을 것이다.\n",
        "5. 상권이 형성된 도심지역의 부동산 가치가 높을 것이다.\n",
        "6. 음식점 및 식자재의 대체 업종인 편의점의 수요도 높았을 것이다 (집합금지)\n",
        "6. (1~6 모두 제주도 내의 타 지역 대비 도심지역을 기준으로 한다.)"
      ]
    },
    {
      "cell_type": "markdown",
      "metadata": {
        "id": "CRKuMqnQIu1B"
      },
      "source": [
        "# 3. 재난지원금의 특성\n",
        "\n",
        "- 사용처의 제한 (영세, 소상공인 업체 위주 사용)\n",
        "- 사용자의 자격 제한 (내, 외국인 구분)\n",
        "- 금액 제한 (지역, 자격별 수령 금액 차이)\n",
        "\n",
        "==> 제주도 재난지원금은 외국인에게도 지급하였으므로, 내외국인 모두 포함하여 분석하였다. 그리고, 우리나라 소상공인 대부분이 음식점업에 종사하고 있고, 인간의 삶을 유지하는 데 필수 요소인 의식주 중 가장 필수적인 요소는 '식(食, Food)'이기 때문에, 업종을 음식점 및 식자재로 Narrow Targeting하여 분석하였다. (슈퍼마켓은 소상공인 부동산 거래와 관련성이 낮기 때문에 제외)"
      ]
    },
    {
      "cell_type": "markdown",
      "metadata": {
        "id": "nRS0HFYYI0G-"
      },
      "source": [
        "# 4. 살펴볼 사항\n",
        "\n",
        "1. 재난지원금 사용 양상 (업종별, 제주지역별 5,6,7,8월)\n",
        "2. 임대료 (제주상권별)\n",
        "3. 상가 권리금 현황 (전국, 제주)\n",
        "4. 상가(부동산) 순영업소득 (제주상권별)\n",
        "5. 월평균 소득 (제주지역별)\n",
        "6. 인구수 (제주 행정시,읍면동별)"
      ]
    },
    {
      "cell_type": "markdown",
      "metadata": {
        "id": "1M9uxTijI5Ye"
      },
      "source": [
        "# 5. 비즈니스 인사이트 도출\n",
        "1. 추가 예정\n",
        "2. 추가 예정"
      ]
    },
    {
      "cell_type": "markdown",
      "metadata": {
        "id": "TEFay8N9KBiP"
      },
      "source": [
        "---\n",
        "# Ⅰ. 분석 준비"
      ]
    },
    {
      "cell_type": "code",
      "metadata": {
        "colab": {
          "base_uri": "https://localhost:8080/"
        },
        "id": "0rWfUpmnnnbX",
        "outputId": "5c25603d-4cf8-4a60-b1eb-8c36eeed7f36"
      },
      "source": [
        "from google.colab import drive\n",
        "drive.mount('/content/drive')"
      ],
      "execution_count": 1,
      "outputs": [
        {
          "output_type": "stream",
          "text": [
            "Drive already mounted at /content/drive; to attempt to forcibly remount, call drive.mount(\"/content/drive\", force_remount=True).\n"
          ],
          "name": "stdout"
        }
      ]
    },
    {
      "cell_type": "code",
      "metadata": {
        "id": "zN-WPH0FsNuH"
      },
      "source": [
        "import pandas as pd\n",
        "from matplotlib import pyplot as plt\n",
        "import numpy as np\n",
        "from pandas import DataFrame\n",
        "import warnings\n",
        "warnings.filterwarnings(\"ignore\")"
      ],
      "execution_count": 2,
      "outputs": []
    },
    {
      "cell_type": "markdown",
      "metadata": {
        "id": "oWgBmrbly2Bf"
      },
      "source": [
        "1) 5~8월 각 월별 데이터 살펴보기"
      ]
    },
    {
      "cell_type": "code",
      "metadata": {
        "colab": {
          "base_uri": "https://localhost:8080/"
        },
        "id": "lt1WVCx4rrsc",
        "outputId": "d2b4a753-b47b-481a-976f-6ba6d8324bcd"
      },
      "source": [
        "df5 = pd.read_csv('/content/drive/MyDrive/Colab Notebooks/dayconEDA/KRI-DAC_Jeju_data5.txt')\n",
        "df5.info()"
      ],
      "execution_count": 3,
      "outputs": [
        {
          "output_type": "stream",
          "text": [
            "<class 'pandas.core.frame.DataFrame'>\n",
            "RangeIndex: 273183 entries, 0 to 273182\n",
            "Data columns (total 14 columns):\n",
            " #   Column         Non-Null Count   Dtype  \n",
            "---  ------         --------------   -----  \n",
            " 0   OBJECTID       273183 non-null  int64  \n",
            " 1   Field1         273183 non-null  int64  \n",
            " 2   YM             273183 non-null  int64  \n",
            " 3   SIDO           273183 non-null  object \n",
            " 4   SIGUNGU        273183 non-null  object \n",
            " 5   FranClass      273183 non-null  object \n",
            " 6   Type           273183 non-null  object \n",
            " 7   Time           273183 non-null  object \n",
            " 8   TotalSpent     273183 non-null  int64  \n",
            " 9   DisSpent       273183 non-null  int64  \n",
            " 10  NumofSpent     273183 non-null  int64  \n",
            " 11  NumofDisSpent  273183 non-null  int64  \n",
            " 12  POINT_X        273183 non-null  float64\n",
            " 13  POINT_Y        273183 non-null  float64\n",
            "dtypes: float64(2), int64(7), object(5)\n",
            "memory usage: 29.2+ MB\n"
          ],
          "name": "stdout"
        }
      ]
    },
    {
      "cell_type": "code",
      "metadata": {
        "colab": {
          "base_uri": "https://localhost:8080/"
        },
        "id": "Fu04uCL7ymDO",
        "outputId": "ef0b4ea4-9d1a-4948-8743-7f6417e12389"
      },
      "source": [
        "df6 = pd.read_csv('/content/drive/MyDrive/Colab Notebooks/dayconEDA/KRI-DAC_Jeju_data6.txt')\n",
        "df6.info()"
      ],
      "execution_count": 4,
      "outputs": [
        {
          "output_type": "stream",
          "text": [
            "<class 'pandas.core.frame.DataFrame'>\n",
            "RangeIndex: 281896 entries, 0 to 281895\n",
            "Data columns (total 14 columns):\n",
            " #   Column         Non-Null Count   Dtype  \n",
            "---  ------         --------------   -----  \n",
            " 0   OBJECTID       281896 non-null  int64  \n",
            " 1   Field1         281896 non-null  int64  \n",
            " 2   YM             281896 non-null  int64  \n",
            " 3   SIDO           281896 non-null  object \n",
            " 4   SIGUNGU        281896 non-null  object \n",
            " 5   FranClass      281896 non-null  object \n",
            " 6   Type           281896 non-null  object \n",
            " 7   Time           281896 non-null  object \n",
            " 8   TotalSpent     281896 non-null  int64  \n",
            " 9   DisSpent       281896 non-null  int64  \n",
            " 10  NumofSpent     281896 non-null  int64  \n",
            " 11  NumofDisSpent  281896 non-null  int64  \n",
            " 12  POINT_X        281896 non-null  float64\n",
            " 13  POINT_Y        281896 non-null  float64\n",
            "dtypes: float64(2), int64(7), object(5)\n",
            "memory usage: 30.1+ MB\n"
          ],
          "name": "stdout"
        }
      ]
    },
    {
      "cell_type": "code",
      "metadata": {
        "colab": {
          "base_uri": "https://localhost:8080/"
        },
        "id": "4ECYqqu0ynth",
        "outputId": "70611955-9e72-47b8-87f1-f3c91df68abc"
      },
      "source": [
        "df7 = pd.read_csv('/content/drive/MyDrive/Colab Notebooks/dayconEDA/KRI-DAC_Jeju_data7.txt')\n",
        "df7.info()"
      ],
      "execution_count": 5,
      "outputs": [
        {
          "output_type": "stream",
          "text": [
            "<class 'pandas.core.frame.DataFrame'>\n",
            "RangeIndex: 284265 entries, 0 to 284264\n",
            "Data columns (total 16 columns):\n",
            " #   Column         Non-Null Count   Dtype  \n",
            "---  ------         --------------   -----  \n",
            " 0   OBJECTID       284265 non-null  int64  \n",
            " 1   Field1         284265 non-null  int64  \n",
            " 2   YM             284265 non-null  int64  \n",
            " 3   SIDO           284265 non-null  object \n",
            " 4   SIGUNGU        284265 non-null  object \n",
            " 5   X              284265 non-null  int64  \n",
            " 6   Y              284265 non-null  int64  \n",
            " 7   FranClass      284265 non-null  object \n",
            " 8   Type           284265 non-null  object \n",
            " 9   Time           284265 non-null  object \n",
            " 10  TotalSpent     284265 non-null  int64  \n",
            " 11  DisSpent       284265 non-null  int64  \n",
            " 12  NumofSpent     284265 non-null  int64  \n",
            " 13  NumofDisSpent  284265 non-null  int64  \n",
            " 14  POINT_X        284265 non-null  float64\n",
            " 15  POINT_Y        284265 non-null  float64\n",
            "dtypes: float64(2), int64(9), object(5)\n",
            "memory usage: 34.7+ MB\n"
          ],
          "name": "stdout"
        }
      ]
    },
    {
      "cell_type": "code",
      "metadata": {
        "colab": {
          "base_uri": "https://localhost:8080/"
        },
        "id": "hz_g3bZqyrhR",
        "outputId": "a1bc61f7-7a58-41b0-809e-819976b8279d"
      },
      "source": [
        "df8 = pd.read_csv('/content/drive/MyDrive/Colab Notebooks/dayconEDA/KRI-DAC_Jeju_data8.txt')\n",
        "df8.info()"
      ],
      "execution_count": 6,
      "outputs": [
        {
          "output_type": "stream",
          "text": [
            "<class 'pandas.core.frame.DataFrame'>\n",
            "RangeIndex: 280085 entries, 0 to 280084\n",
            "Data columns (total 14 columns):\n",
            " #   Column         Non-Null Count   Dtype  \n",
            "---  ------         --------------   -----  \n",
            " 0   OBJECTID       280085 non-null  int64  \n",
            " 1   Field1         280085 non-null  int64  \n",
            " 2   YM             280085 non-null  int64  \n",
            " 3   SIDO           280085 non-null  object \n",
            " 4   SIGUNGU        280085 non-null  object \n",
            " 5   FranClass      280085 non-null  object \n",
            " 6   Type           280085 non-null  object \n",
            " 7   Time           280085 non-null  object \n",
            " 8   TotalSpent     280085 non-null  int64  \n",
            " 9   DisSpent       280085 non-null  int64  \n",
            " 10  NumofSpent     280085 non-null  int64  \n",
            " 11  NumofDisSpent  280085 non-null  int64  \n",
            " 12  POINT_X        280085 non-null  float64\n",
            " 13  POINT_Y        280085 non-null  float64\n",
            "dtypes: float64(2), int64(7), object(5)\n",
            "memory usage: 29.9+ MB\n"
          ],
          "name": "stdout"
        }
      ]
    },
    {
      "cell_type": "markdown",
      "metadata": {
        "id": "XrqFPBJj00AH"
      },
      "source": [
        "2) 5~8월 데이터를 하나의 파일로 합치기"
      ]
    },
    {
      "cell_type": "code",
      "metadata": {
        "colab": {
          "base_uri": "https://localhost:8080/"
        },
        "id": "iFFpYg8Q0icB",
        "outputId": "56860aa8-149f-41b2-ea68-ef6cf6b5e42d"
      },
      "source": [
        "mergedf = pd.concat([df5,df6,df7,df8])\n",
        "mergedf.count()"
      ],
      "execution_count": 7,
      "outputs": [
        {
          "output_type": "execute_result",
          "data": {
            "text/plain": [
              "OBJECTID         1119429\n",
              "Field1           1119429\n",
              "YM               1119429\n",
              "SIDO             1119429\n",
              "SIGUNGU          1119429\n",
              "FranClass        1119429\n",
              "Type             1119429\n",
              "Time             1119429\n",
              "TotalSpent       1119429\n",
              "DisSpent         1119429\n",
              "NumofSpent       1119429\n",
              "NumofDisSpent    1119429\n",
              "POINT_X          1119429\n",
              "POINT_Y          1119429\n",
              "X                 284265\n",
              "Y                 284265\n",
              "dtype: int64"
            ]
          },
          "metadata": {},
          "execution_count": 7
        }
      ]
    },
    {
      "cell_type": "code",
      "metadata": {
        "colab": {
          "base_uri": "https://localhost:8080/",
          "height": 204
        },
        "id": "YNNSQ0T-3Vlg",
        "outputId": "3f6957d1-acf7-4a56-d887-0dbad3475440"
      },
      "source": [
        "mergedf.head()"
      ],
      "execution_count": 8,
      "outputs": [
        {
          "output_type": "execute_result",
          "data": {
            "text/html": [
              "<div>\n",
              "<style scoped>\n",
              "    .dataframe tbody tr th:only-of-type {\n",
              "        vertical-align: middle;\n",
              "    }\n",
              "\n",
              "    .dataframe tbody tr th {\n",
              "        vertical-align: top;\n",
              "    }\n",
              "\n",
              "    .dataframe thead th {\n",
              "        text-align: right;\n",
              "    }\n",
              "</style>\n",
              "<table border=\"1\" class=\"dataframe\">\n",
              "  <thead>\n",
              "    <tr style=\"text-align: right;\">\n",
              "      <th></th>\n",
              "      <th>OBJECTID</th>\n",
              "      <th>Field1</th>\n",
              "      <th>YM</th>\n",
              "      <th>SIDO</th>\n",
              "      <th>SIGUNGU</th>\n",
              "      <th>FranClass</th>\n",
              "      <th>Type</th>\n",
              "      <th>Time</th>\n",
              "      <th>TotalSpent</th>\n",
              "      <th>DisSpent</th>\n",
              "      <th>NumofSpent</th>\n",
              "      <th>NumofDisSpent</th>\n",
              "      <th>POINT_X</th>\n",
              "      <th>POINT_Y</th>\n",
              "      <th>X</th>\n",
              "      <th>Y</th>\n",
              "    </tr>\n",
              "  </thead>\n",
              "  <tbody>\n",
              "    <tr>\n",
              "      <th>0</th>\n",
              "      <td>1</td>\n",
              "      <td>1</td>\n",
              "      <td>202005</td>\n",
              "      <td>제주특별자치도</td>\n",
              "      <td>제주시</td>\n",
              "      <td>영세</td>\n",
              "      <td>일반한식</td>\n",
              "      <td>00시</td>\n",
              "      <td>363000</td>\n",
              "      <td>66500</td>\n",
              "      <td>10</td>\n",
              "      <td>2</td>\n",
              "      <td>877005.9834</td>\n",
              "      <td>1.479766e+06</td>\n",
              "      <td>NaN</td>\n",
              "      <td>NaN</td>\n",
              "    </tr>\n",
              "    <tr>\n",
              "      <th>1</th>\n",
              "      <td>2</td>\n",
              "      <td>2</td>\n",
              "      <td>202005</td>\n",
              "      <td>제주특별자치도</td>\n",
              "      <td>제주시</td>\n",
              "      <td>영세</td>\n",
              "      <td>단란주점</td>\n",
              "      <td>00시</td>\n",
              "      <td>1180000</td>\n",
              "      <td>0</td>\n",
              "      <td>3</td>\n",
              "      <td>0</td>\n",
              "      <td>877005.7447</td>\n",
              "      <td>1.479816e+06</td>\n",
              "      <td>NaN</td>\n",
              "      <td>NaN</td>\n",
              "    </tr>\n",
              "    <tr>\n",
              "      <th>2</th>\n",
              "      <td>3</td>\n",
              "      <td>3</td>\n",
              "      <td>202005</td>\n",
              "      <td>제주특별자치도</td>\n",
              "      <td>제주시</td>\n",
              "      <td>중소1</td>\n",
              "      <td>편의점</td>\n",
              "      <td>00시</td>\n",
              "      <td>157670</td>\n",
              "      <td>6850</td>\n",
              "      <td>20</td>\n",
              "      <td>2</td>\n",
              "      <td>877056.6756</td>\n",
              "      <td>1.479616e+06</td>\n",
              "      <td>NaN</td>\n",
              "      <td>NaN</td>\n",
              "    </tr>\n",
              "    <tr>\n",
              "      <th>3</th>\n",
              "      <td>4</td>\n",
              "      <td>4</td>\n",
              "      <td>202005</td>\n",
              "      <td>제주특별자치도</td>\n",
              "      <td>제주시</td>\n",
              "      <td>영세</td>\n",
              "      <td>편의점</td>\n",
              "      <td>00시</td>\n",
              "      <td>46600</td>\n",
              "      <td>0</td>\n",
              "      <td>2</td>\n",
              "      <td>0</td>\n",
              "      <td>877055.9593</td>\n",
              "      <td>1.479766e+06</td>\n",
              "      <td>NaN</td>\n",
              "      <td>NaN</td>\n",
              "    </tr>\n",
              "    <tr>\n",
              "      <th>4</th>\n",
              "      <td>5</td>\n",
              "      <td>5</td>\n",
              "      <td>202005</td>\n",
              "      <td>제주특별자치도</td>\n",
              "      <td>제주시</td>\n",
              "      <td>영세</td>\n",
              "      <td>주점</td>\n",
              "      <td>00시</td>\n",
              "      <td>66000</td>\n",
              "      <td>0</td>\n",
              "      <td>2</td>\n",
              "      <td>0</td>\n",
              "      <td>877055.4817</td>\n",
              "      <td>1.479866e+06</td>\n",
              "      <td>NaN</td>\n",
              "      <td>NaN</td>\n",
              "    </tr>\n",
              "  </tbody>\n",
              "</table>\n",
              "</div>"
            ],
            "text/plain": [
              "   OBJECTID  Field1      YM     SIDO  ...      POINT_X       POINT_Y   X   Y\n",
              "0         1       1  202005  제주특별자치도  ...  877005.9834  1.479766e+06 NaN NaN\n",
              "1         2       2  202005  제주특별자치도  ...  877005.7447  1.479816e+06 NaN NaN\n",
              "2         3       3  202005  제주특별자치도  ...  877056.6756  1.479616e+06 NaN NaN\n",
              "3         4       4  202005  제주특별자치도  ...  877055.9593  1.479766e+06 NaN NaN\n",
              "4         5       5  202005  제주특별자치도  ...  877055.4817  1.479866e+06 NaN NaN\n",
              "\n",
              "[5 rows x 16 columns]"
            ]
          },
          "metadata": {},
          "execution_count": 8
        }
      ]
    },
    {
      "cell_type": "code",
      "metadata": {
        "colab": {
          "base_uri": "https://localhost:8080/",
          "height": 290
        },
        "id": "G_YVF5l237R_",
        "outputId": "79d58aef-75ff-48cb-d6c6-1ce18aee39e9"
      },
      "source": [
        "mergedf.tail()"
      ],
      "execution_count": 9,
      "outputs": [
        {
          "output_type": "execute_result",
          "data": {
            "text/html": [
              "<div>\n",
              "<style scoped>\n",
              "    .dataframe tbody tr th:only-of-type {\n",
              "        vertical-align: middle;\n",
              "    }\n",
              "\n",
              "    .dataframe tbody tr th {\n",
              "        vertical-align: top;\n",
              "    }\n",
              "\n",
              "    .dataframe thead th {\n",
              "        text-align: right;\n",
              "    }\n",
              "</style>\n",
              "<table border=\"1\" class=\"dataframe\">\n",
              "  <thead>\n",
              "    <tr style=\"text-align: right;\">\n",
              "      <th></th>\n",
              "      <th>OBJECTID</th>\n",
              "      <th>Field1</th>\n",
              "      <th>YM</th>\n",
              "      <th>SIDO</th>\n",
              "      <th>SIGUNGU</th>\n",
              "      <th>FranClass</th>\n",
              "      <th>Type</th>\n",
              "      <th>Time</th>\n",
              "      <th>TotalSpent</th>\n",
              "      <th>DisSpent</th>\n",
              "      <th>NumofSpent</th>\n",
              "      <th>NumofDisSpent</th>\n",
              "      <th>POINT_X</th>\n",
              "      <th>POINT_Y</th>\n",
              "      <th>X</th>\n",
              "      <th>Y</th>\n",
              "    </tr>\n",
              "  </thead>\n",
              "  <tbody>\n",
              "    <tr>\n",
              "      <th>280080</th>\n",
              "      <td>280081</td>\n",
              "      <td>280081</td>\n",
              "      <td>202008</td>\n",
              "      <td>제주특별자치도</td>\n",
              "      <td>제주시</td>\n",
              "      <td>영세</td>\n",
              "      <td>편의점</td>\n",
              "      <td>x시</td>\n",
              "      <td>13700</td>\n",
              "      <td>0</td>\n",
              "      <td>2</td>\n",
              "      <td>0</td>\n",
              "      <td>950266.5976</td>\n",
              "      <td>1.502458e+06</td>\n",
              "      <td>NaN</td>\n",
              "      <td>NaN</td>\n",
              "    </tr>\n",
              "    <tr>\n",
              "      <th>280081</th>\n",
              "      <td>280082</td>\n",
              "      <td>280082</td>\n",
              "      <td>202008</td>\n",
              "      <td>제주특별자치도</td>\n",
              "      <td>제주시</td>\n",
              "      <td>영세</td>\n",
              "      <td>일반한식</td>\n",
              "      <td>x시</td>\n",
              "      <td>56000</td>\n",
              "      <td>0</td>\n",
              "      <td>1</td>\n",
              "      <td>0</td>\n",
              "      <td>950317.5379</td>\n",
              "      <td>1.502258e+06</td>\n",
              "      <td>NaN</td>\n",
              "      <td>NaN</td>\n",
              "    </tr>\n",
              "    <tr>\n",
              "      <th>280082</th>\n",
              "      <td>280083</td>\n",
              "      <td>280083</td>\n",
              "      <td>202008</td>\n",
              "      <td>제주특별자치도</td>\n",
              "      <td>제주시</td>\n",
              "      <td>영세</td>\n",
              "      <td>일반한식</td>\n",
              "      <td>x시</td>\n",
              "      <td>28000</td>\n",
              "      <td>0</td>\n",
              "      <td>1</td>\n",
              "      <td>0</td>\n",
              "      <td>950469.1585</td>\n",
              "      <td>1.501909e+06</td>\n",
              "      <td>NaN</td>\n",
              "      <td>NaN</td>\n",
              "    </tr>\n",
              "    <tr>\n",
              "      <th>280083</th>\n",
              "      <td>280084</td>\n",
              "      <td>280084</td>\n",
              "      <td>202008</td>\n",
              "      <td>제주특별자치도</td>\n",
              "      <td>제주시</td>\n",
              "      <td>중소1</td>\n",
              "      <td>중국음식</td>\n",
              "      <td>x시</td>\n",
              "      <td>46000</td>\n",
              "      <td>0</td>\n",
              "      <td>3</td>\n",
              "      <td>0</td>\n",
              "      <td>950574.6388</td>\n",
              "      <td>1.500760e+06</td>\n",
              "      <td>NaN</td>\n",
              "      <td>NaN</td>\n",
              "    </tr>\n",
              "    <tr>\n",
              "      <th>280084</th>\n",
              "      <td>280085</td>\n",
              "      <td>280085</td>\n",
              "      <td>202008</td>\n",
              "      <td>제주특별자치도</td>\n",
              "      <td>제주시</td>\n",
              "      <td>영세</td>\n",
              "      <td>서양음식</td>\n",
              "      <td>x시</td>\n",
              "      <td>9000</td>\n",
              "      <td>0</td>\n",
              "      <td>1</td>\n",
              "      <td>0</td>\n",
              "      <td>950565.5176</td>\n",
              "      <td>1.502659e+06</td>\n",
              "      <td>NaN</td>\n",
              "      <td>NaN</td>\n",
              "    </tr>\n",
              "  </tbody>\n",
              "</table>\n",
              "</div>"
            ],
            "text/plain": [
              "        OBJECTID  Field1      YM     SIDO  ...      POINT_X       POINT_Y   X   Y\n",
              "280080    280081  280081  202008  제주특별자치도  ...  950266.5976  1.502458e+06 NaN NaN\n",
              "280081    280082  280082  202008  제주특별자치도  ...  950317.5379  1.502258e+06 NaN NaN\n",
              "280082    280083  280083  202008  제주특별자치도  ...  950469.1585  1.501909e+06 NaN NaN\n",
              "280083    280084  280084  202008  제주특별자치도  ...  950574.6388  1.500760e+06 NaN NaN\n",
              "280084    280085  280085  202008  제주특별자치도  ...  950565.5176  1.502659e+06 NaN NaN\n",
              "\n",
              "[5 rows x 16 columns]"
            ]
          },
          "metadata": {},
          "execution_count": 9
        }
      ]
    },
    {
      "cell_type": "markdown",
      "metadata": {
        "id": "wbDF4QCZ5Ygz"
      },
      "source": [
        "3) 불필요한 컬럼 제거"
      ]
    },
    {
      "cell_type": "code",
      "metadata": {
        "id": "wBgOwNz45oK9"
      },
      "source": [
        "mergedf.drop(columns = ['X', 'Y', 'OBJECTID', 'Field1', 'Time', 'NumofSpent', 'NumofDisSpent'], inplace = True)"
      ],
      "execution_count": 10,
      "outputs": []
    },
    {
      "cell_type": "code",
      "metadata": {
        "colab": {
          "base_uri": "https://localhost:8080/",
          "height": 204
        },
        "id": "b6FbI9A55soZ",
        "outputId": "01972b13-5118-4439-8e73-679720b65ac6"
      },
      "source": [
        "mergedf.head()"
      ],
      "execution_count": 11,
      "outputs": [
        {
          "output_type": "execute_result",
          "data": {
            "text/html": [
              "<div>\n",
              "<style scoped>\n",
              "    .dataframe tbody tr th:only-of-type {\n",
              "        vertical-align: middle;\n",
              "    }\n",
              "\n",
              "    .dataframe tbody tr th {\n",
              "        vertical-align: top;\n",
              "    }\n",
              "\n",
              "    .dataframe thead th {\n",
              "        text-align: right;\n",
              "    }\n",
              "</style>\n",
              "<table border=\"1\" class=\"dataframe\">\n",
              "  <thead>\n",
              "    <tr style=\"text-align: right;\">\n",
              "      <th></th>\n",
              "      <th>YM</th>\n",
              "      <th>SIDO</th>\n",
              "      <th>SIGUNGU</th>\n",
              "      <th>FranClass</th>\n",
              "      <th>Type</th>\n",
              "      <th>TotalSpent</th>\n",
              "      <th>DisSpent</th>\n",
              "      <th>POINT_X</th>\n",
              "      <th>POINT_Y</th>\n",
              "    </tr>\n",
              "  </thead>\n",
              "  <tbody>\n",
              "    <tr>\n",
              "      <th>0</th>\n",
              "      <td>202005</td>\n",
              "      <td>제주특별자치도</td>\n",
              "      <td>제주시</td>\n",
              "      <td>영세</td>\n",
              "      <td>일반한식</td>\n",
              "      <td>363000</td>\n",
              "      <td>66500</td>\n",
              "      <td>877005.9834</td>\n",
              "      <td>1.479766e+06</td>\n",
              "    </tr>\n",
              "    <tr>\n",
              "      <th>1</th>\n",
              "      <td>202005</td>\n",
              "      <td>제주특별자치도</td>\n",
              "      <td>제주시</td>\n",
              "      <td>영세</td>\n",
              "      <td>단란주점</td>\n",
              "      <td>1180000</td>\n",
              "      <td>0</td>\n",
              "      <td>877005.7447</td>\n",
              "      <td>1.479816e+06</td>\n",
              "    </tr>\n",
              "    <tr>\n",
              "      <th>2</th>\n",
              "      <td>202005</td>\n",
              "      <td>제주특별자치도</td>\n",
              "      <td>제주시</td>\n",
              "      <td>중소1</td>\n",
              "      <td>편의점</td>\n",
              "      <td>157670</td>\n",
              "      <td>6850</td>\n",
              "      <td>877056.6756</td>\n",
              "      <td>1.479616e+06</td>\n",
              "    </tr>\n",
              "    <tr>\n",
              "      <th>3</th>\n",
              "      <td>202005</td>\n",
              "      <td>제주특별자치도</td>\n",
              "      <td>제주시</td>\n",
              "      <td>영세</td>\n",
              "      <td>편의점</td>\n",
              "      <td>46600</td>\n",
              "      <td>0</td>\n",
              "      <td>877055.9593</td>\n",
              "      <td>1.479766e+06</td>\n",
              "    </tr>\n",
              "    <tr>\n",
              "      <th>4</th>\n",
              "      <td>202005</td>\n",
              "      <td>제주특별자치도</td>\n",
              "      <td>제주시</td>\n",
              "      <td>영세</td>\n",
              "      <td>주점</td>\n",
              "      <td>66000</td>\n",
              "      <td>0</td>\n",
              "      <td>877055.4817</td>\n",
              "      <td>1.479866e+06</td>\n",
              "    </tr>\n",
              "  </tbody>\n",
              "</table>\n",
              "</div>"
            ],
            "text/plain": [
              "       YM     SIDO SIGUNGU  ... DisSpent      POINT_X       POINT_Y\n",
              "0  202005  제주특별자치도     제주시  ...    66500  877005.9834  1.479766e+06\n",
              "1  202005  제주특별자치도     제주시  ...        0  877005.7447  1.479816e+06\n",
              "2  202005  제주특별자치도     제주시  ...     6850  877056.6756  1.479616e+06\n",
              "3  202005  제주특별자치도     제주시  ...        0  877055.9593  1.479766e+06\n",
              "4  202005  제주특별자치도     제주시  ...        0  877055.4817  1.479866e+06\n",
              "\n",
              "[5 rows x 9 columns]"
            ]
          },
          "metadata": {},
          "execution_count": 11
        }
      ]
    },
    {
      "cell_type": "markdown",
      "metadata": {
        "id": "8mMY8L8N04ew"
      },
      "source": [
        "4) 빈 값이 있는지 찾고, 0으로 대체 --> 애초에 데이터에 null 값 없음"
      ]
    },
    {
      "cell_type": "code",
      "metadata": {
        "colab": {
          "base_uri": "https://localhost:8080/"
        },
        "id": "HpeZSRsEDVBE",
        "outputId": "16f3dd4d-e3a6-4b07-9f97-585dab23f7ff"
      },
      "source": [
        "mergedf.isnull().sum()"
      ],
      "execution_count": 46,
      "outputs": [
        {
          "output_type": "execute_result",
          "data": {
            "text/plain": [
              "YM            0\n",
              "SIDO          0\n",
              "SIGUNGU       0\n",
              "FranClass     0\n",
              "Type          0\n",
              "TotalSpent    0\n",
              "DisSpent      0\n",
              "POINT_X       0\n",
              "POINT_Y       0\n",
              "dtype: int64"
            ]
          },
          "metadata": {},
          "execution_count": 46
        }
      ]
    },
    {
      "cell_type": "markdown",
      "metadata": {
        "id": "nP3F2oGt9DHJ"
      },
      "source": [
        "5) 업종 항목 확인"
      ]
    },
    {
      "cell_type": "code",
      "metadata": {
        "colab": {
          "base_uri": "https://localhost:8080/"
        },
        "id": "zpXxBV7M9MgT",
        "outputId": "c09aeaf2-d9ae-4766-a3c9-af5d8a15e102"
      },
      "source": [
        "mergedf['Type'].unique()"
      ],
      "execution_count": 13,
      "outputs": [
        {
          "output_type": "execute_result",
          "data": {
            "text/plain": [
              "array(['일반한식', '단란주점', '편의점', '주점', '스넥', '서양음식', '일식회집', '기타음료식품', '노래방',\n",
              "       '중국음식', '슈퍼마켓', '유흥주점', '기타숙박업', '기타레져업', '당구장', '농축수산품', '유아원',\n",
              "       '골프경기장', '세탁소', '가방', '콘도', '주차장', '문화취미기타', '주유소', '사무서비스',\n",
              "       '자동차정비', '특급호텔', '볼링장', '화장품', '기타회원제형태업소', '주류판매점', '제과점',\n",
              "       '피부미용실', '약국', '칵테일바', '정육점', '독서실', '스포츠레져용품', '골프용품', 'LPG',\n",
              "       '종합병원', '사우나', '화원', '의원', '안마스포츠마사지', '골프연습장', '2급호텔', '기타대인서비스',\n",
              "       '보습학원', '부동산분양', '화물운송', '애완동물', '동물병원', '대형할인점', '인터넷Mall', '항공사',\n",
              "       '헬스크럽', '기타유통업', '레져용품수리', '정장', '레져업소(회원제형태)', '관광여행', '1급호텔',\n",
              "       '침구수예점', '사진관', '악세사리', '보관창고업', '기념품점', '미용원', '영화관', '의료용품',\n",
              "       '세차장', '인터넷종합Mall', '기타잡화', '성인용품점', '상품권', '종합용역', '기계공구',\n",
              "       '조세서비스', '택시', '기타의료기관및기기', '가례서비스', '구내매점', '수영장', '목재석재철물',\n",
              "       '건축요업품', '기타업종', '렌트카', '종합레져타운', '유류판매', '농축협직영매장', '기타건축자재',\n",
              "       '비료농약사료종자', '농기계', '보일러펌프', '가전제품', '스포츠의류', '페인트', '미곡상',\n",
              "       '기타농업관련', '기타가구', '공공요금', '기능학원', '면세점', '기타교육', '위탁급식업', '이용원',\n",
              "       '조명기구', '문구용품', '인테리어', '민예공예품', '기타연료', '자동차부품', '기타용역서비스',\n",
              "       '기타운송', '연쇄점', '옷감직물', '한의원', '주방용식기', '카인테리어', '기타수리서비스',\n",
              "       '농협하나로클럽', '기타건강식', '티켓', '기타전기제품', '일반서적', '외국어학원', '건강진단',\n",
              "       '냉열기기', '소프트웨어', '내의판매점', '주방용구', '완구점', '유리', '자동차시트타이어',\n",
              "       '카페트커텐천막', '기타교통수단', '테니스장', '치과의원', '신발', '기타의류', '컴퓨터', '병원',\n",
              "       '가정용품수리', '단체복', '아동의류', '일반가구', '출판인쇄물', '치과병원', '서적출판(회원제형태)',\n",
              "       '카메라', '정수기', 'CATV', '기타사무용', '학원(회원제형태)', '이륜차판매', '철제가구',\n",
              "       '산후조리원', '견인서비스', '수족관', '양품점', '시계', '안경', '인삼제품', '홍삼제품', '한약방',\n",
              "       '중장비수리', '캐쥬얼의류', '과학기자재', '윤활유전문판매', '부동산중개임대', '여객선', '통신기기',\n",
              "       '귀금속', '건강식품(회원제형태)', '사무기기', '신변잡화수리', '미용재료', '예체능학원', '기타보험',\n",
              "       '사무통신기기수리', '법률회계서비스', '맞춤복점', '전문서적', '화방표구점', '손해보험', '악기점',\n",
              "       '기타자동차서비스', '정기간행물', '기타비영리유통', '화랑', '컴퓨터학원', '중고자동차', '제화점',\n",
              "       '대학등록금', '기타서적문구', '학습지교육', '수입자동차', '기타직물', 'DVD음반테이프판매', '기타광학품',\n",
              "       '제약회사', '초중고교육기관', '사무서비스(회원제형태)', '골동품점', '정보서비스'], dtype=object)"
            ]
          },
          "metadata": {},
          "execution_count": 13
        }
      ]
    },
    {
      "cell_type": "markdown",
      "metadata": {
        "id": "SCJfter3KFEf"
      },
      "source": [
        "# Ⅱ. 재난지원금 사용 양상"
      ]
    },
    {
      "cell_type": "markdown",
      "metadata": {
        "id": "z6toK9NKpNmo"
      },
      "source": [
        "1) 필요한 업종만 데이터 추출"
      ]
    },
    {
      "cell_type": "code",
      "metadata": {
        "colab": {
          "base_uri": "https://localhost:8080/",
          "height": 419
        },
        "id": "jQlf_OWNpLBy",
        "outputId": "f6ab5546-e1d0-45bf-9ea9-76df2c2c326f"
      },
      "source": [
        "m_data = pd.DataFrame(mergedf, columns=['YM', 'SIDO', 'SIGUNGU', 'FranClass', 'Type', 'TotalSpent', 'DisSpent', 'POINT_X', 'POINT_Y'])\n",
        "\n",
        "targets = ['일반한식', '스넥', '서양음식', '일식회집', '기타음료식품', '중국음식', '농축수산품', '제과점', '정육점', '미곡상', '인삼제품', '홍삼제품']\n",
        "\n",
        "f_data = m_data.loc[m_data['Type'].isin(targets)]\n",
        "\n",
        "f_data.reset_index(drop=True, inplace=True)\n",
        "\n",
        "f_data"
      ],
      "execution_count": 14,
      "outputs": [
        {
          "output_type": "execute_result",
          "data": {
            "text/html": [
              "<div>\n",
              "<style scoped>\n",
              "    .dataframe tbody tr th:only-of-type {\n",
              "        vertical-align: middle;\n",
              "    }\n",
              "\n",
              "    .dataframe tbody tr th {\n",
              "        vertical-align: top;\n",
              "    }\n",
              "\n",
              "    .dataframe thead th {\n",
              "        text-align: right;\n",
              "    }\n",
              "</style>\n",
              "<table border=\"1\" class=\"dataframe\">\n",
              "  <thead>\n",
              "    <tr style=\"text-align: right;\">\n",
              "      <th></th>\n",
              "      <th>YM</th>\n",
              "      <th>SIDO</th>\n",
              "      <th>SIGUNGU</th>\n",
              "      <th>FranClass</th>\n",
              "      <th>Type</th>\n",
              "      <th>TotalSpent</th>\n",
              "      <th>DisSpent</th>\n",
              "      <th>POINT_X</th>\n",
              "      <th>POINT_Y</th>\n",
              "    </tr>\n",
              "  </thead>\n",
              "  <tbody>\n",
              "    <tr>\n",
              "      <th>0</th>\n",
              "      <td>202005</td>\n",
              "      <td>제주특별자치도</td>\n",
              "      <td>제주시</td>\n",
              "      <td>영세</td>\n",
              "      <td>일반한식</td>\n",
              "      <td>363000</td>\n",
              "      <td>66500</td>\n",
              "      <td>877005.9834</td>\n",
              "      <td>1.479766e+06</td>\n",
              "    </tr>\n",
              "    <tr>\n",
              "      <th>1</th>\n",
              "      <td>202005</td>\n",
              "      <td>제주특별자치도</td>\n",
              "      <td>제주시</td>\n",
              "      <td>영세</td>\n",
              "      <td>스넥</td>\n",
              "      <td>159000</td>\n",
              "      <td>0</td>\n",
              "      <td>877205.4093</td>\n",
              "      <td>1.479867e+06</td>\n",
              "    </tr>\n",
              "    <tr>\n",
              "      <th>2</th>\n",
              "      <td>202005</td>\n",
              "      <td>제주특별자치도</td>\n",
              "      <td>제주시</td>\n",
              "      <td>영세</td>\n",
              "      <td>서양음식</td>\n",
              "      <td>26000</td>\n",
              "      <td>26000</td>\n",
              "      <td>877377.1167</td>\n",
              "      <td>1.485765e+06</td>\n",
              "    </tr>\n",
              "    <tr>\n",
              "      <th>3</th>\n",
              "      <td>202005</td>\n",
              "      <td>제주특별자치도</td>\n",
              "      <td>제주시</td>\n",
              "      <td>영세</td>\n",
              "      <td>스넥</td>\n",
              "      <td>53000</td>\n",
              "      <td>0</td>\n",
              "      <td>877430.4399</td>\n",
              "      <td>1.485066e+06</td>\n",
              "    </tr>\n",
              "    <tr>\n",
              "      <th>4</th>\n",
              "      <td>202005</td>\n",
              "      <td>제주특별자치도</td>\n",
              "      <td>제주시</td>\n",
              "      <td>영세</td>\n",
              "      <td>일식회집</td>\n",
              "      <td>112500</td>\n",
              "      <td>0</td>\n",
              "      <td>880563.8581</td>\n",
              "      <td>1.488229e+06</td>\n",
              "    </tr>\n",
              "    <tr>\n",
              "      <th>...</th>\n",
              "      <td>...</td>\n",
              "      <td>...</td>\n",
              "      <td>...</td>\n",
              "      <td>...</td>\n",
              "      <td>...</td>\n",
              "      <td>...</td>\n",
              "      <td>...</td>\n",
              "      <td>...</td>\n",
              "      <td>...</td>\n",
              "    </tr>\n",
              "    <tr>\n",
              "      <th>513476</th>\n",
              "      <td>202008</td>\n",
              "      <td>제주특별자치도</td>\n",
              "      <td>제주시</td>\n",
              "      <td>영세</td>\n",
              "      <td>일반한식</td>\n",
              "      <td>23500</td>\n",
              "      <td>0</td>\n",
              "      <td>950266.5976</td>\n",
              "      <td>1.502458e+06</td>\n",
              "    </tr>\n",
              "    <tr>\n",
              "      <th>513477</th>\n",
              "      <td>202008</td>\n",
              "      <td>제주특별자치도</td>\n",
              "      <td>제주시</td>\n",
              "      <td>영세</td>\n",
              "      <td>일반한식</td>\n",
              "      <td>56000</td>\n",
              "      <td>0</td>\n",
              "      <td>950317.5379</td>\n",
              "      <td>1.502258e+06</td>\n",
              "    </tr>\n",
              "    <tr>\n",
              "      <th>513478</th>\n",
              "      <td>202008</td>\n",
              "      <td>제주특별자치도</td>\n",
              "      <td>제주시</td>\n",
              "      <td>영세</td>\n",
              "      <td>일반한식</td>\n",
              "      <td>28000</td>\n",
              "      <td>0</td>\n",
              "      <td>950469.1585</td>\n",
              "      <td>1.501909e+06</td>\n",
              "    </tr>\n",
              "    <tr>\n",
              "      <th>513479</th>\n",
              "      <td>202008</td>\n",
              "      <td>제주특별자치도</td>\n",
              "      <td>제주시</td>\n",
              "      <td>중소1</td>\n",
              "      <td>중국음식</td>\n",
              "      <td>46000</td>\n",
              "      <td>0</td>\n",
              "      <td>950574.6388</td>\n",
              "      <td>1.500760e+06</td>\n",
              "    </tr>\n",
              "    <tr>\n",
              "      <th>513480</th>\n",
              "      <td>202008</td>\n",
              "      <td>제주특별자치도</td>\n",
              "      <td>제주시</td>\n",
              "      <td>영세</td>\n",
              "      <td>서양음식</td>\n",
              "      <td>9000</td>\n",
              "      <td>0</td>\n",
              "      <td>950565.5176</td>\n",
              "      <td>1.502659e+06</td>\n",
              "    </tr>\n",
              "  </tbody>\n",
              "</table>\n",
              "<p>513481 rows × 9 columns</p>\n",
              "</div>"
            ],
            "text/plain": [
              "            YM     SIDO SIGUNGU  ... DisSpent      POINT_X       POINT_Y\n",
              "0       202005  제주특별자치도     제주시  ...    66500  877005.9834  1.479766e+06\n",
              "1       202005  제주특별자치도     제주시  ...        0  877205.4093  1.479867e+06\n",
              "2       202005  제주특별자치도     제주시  ...    26000  877377.1167  1.485765e+06\n",
              "3       202005  제주특별자치도     제주시  ...        0  877430.4399  1.485066e+06\n",
              "4       202005  제주특별자치도     제주시  ...        0  880563.8581  1.488229e+06\n",
              "...        ...      ...     ...  ...      ...          ...           ...\n",
              "513476  202008  제주특별자치도     제주시  ...        0  950266.5976  1.502458e+06\n",
              "513477  202008  제주특별자치도     제주시  ...        0  950317.5379  1.502258e+06\n",
              "513478  202008  제주특별자치도     제주시  ...        0  950469.1585  1.501909e+06\n",
              "513479  202008  제주특별자치도     제주시  ...        0  950574.6388  1.500760e+06\n",
              "513480  202008  제주특별자치도     제주시  ...        0  950565.5176  1.502659e+06\n",
              "\n",
              "[513481 rows x 9 columns]"
            ]
          },
          "metadata": {},
          "execution_count": 14
        }
      ]
    },
    {
      "cell_type": "code",
      "metadata": {
        "colab": {
          "base_uri": "https://localhost:8080/"
        },
        "id": "IbQOA02_NDRs",
        "outputId": "12567226-91ef-41ee-d197-b865e75f1b85"
      },
      "source": [
        "f_data['Type'].unique()"
      ],
      "execution_count": 15,
      "outputs": [
        {
          "output_type": "execute_result",
          "data": {
            "text/plain": [
              "array(['일반한식', '스넥', '서양음식', '일식회집', '기타음료식품', '중국음식', '농축수산품', '제과점',\n",
              "       '정육점', '미곡상', '인삼제품', '홍삼제품'], dtype=object)"
            ]
          },
          "metadata": {},
          "execution_count": 15
        }
      ]
    },
    {
      "cell_type": "markdown",
      "metadata": {
        "id": "Dj6t0qsyP1vh"
      },
      "source": [
        "2) 업종별 매출액"
      ]
    },
    {
      "cell_type": "code",
      "metadata": {
        "colab": {
          "base_uri": "https://localhost:8080/"
        },
        "id": "SL2gRRsJP-OK",
        "outputId": "1a85803e-5608-4dbf-b986-6f857719d693"
      },
      "source": [
        "sum_type = f_data.groupby(['Type']).TotalSpent.sum().sort_values(ascending=False)\n",
        "sum_type"
      ],
      "execution_count": 16,
      "outputs": [
        {
          "output_type": "execute_result",
          "data": {
            "text/plain": [
              "Type\n",
              "일반한식      119782556296\n",
              "서양음식       26851921875\n",
              "농축수산품      14860792092\n",
              "일식회집       10507137262\n",
              "스넥          8506437042\n",
              "제과점         7290420946\n",
              "기타음료식품      6079529836\n",
              "정육점         5825063389\n",
              "중국음식        5725268161\n",
              "홍삼제품         421863850\n",
              "미곡상          158408230\n",
              "인삼제품           6021500\n",
              "Name: TotalSpent, dtype: int64"
            ]
          },
          "metadata": {},
          "execution_count": 16
        }
      ]
    },
    {
      "cell_type": "code",
      "metadata": {
        "id": "uMNrP9kZb4T4"
      },
      "source": [
        "!sudo apt-get install -y fonts-nanum\n",
        "!sudo fc-cache -fv\n",
        "!rm ~/.cache/matplotlib -rf"
      ],
      "execution_count": null,
      "outputs": []
    },
    {
      "cell_type": "code",
      "metadata": {
        "colab": {
          "base_uri": "https://localhost:8080/",
          "height": 360
        },
        "id": "cDAWwSBeaVhe",
        "outputId": "6044c899-c4bc-4115-ecc8-91750b5329ef"
      },
      "source": [
        "plt.rc('font', family='NanumBarunGothic') \n",
        "\n",
        "fig = plt.figure()\n",
        "ax = fig.add_axes([0,0,2,1])\n",
        "x = sum_type.index.values\n",
        "y = sum_type.values\n",
        "ax.bar(x,y)\n",
        "plt.style.use('dark_background')\n",
        "plt.xlabel('업종')\n",
        "plt.ylabel('매출')\n",
        "plt.show()"
      ],
      "execution_count": 20,
      "outputs": [
        {
          "output_type": "display_data",
          "data": {
            "image/png": "[encoded data removed]",
            "text/plain": [
              "<Figure size 432x288 with 1 Axes>"
            ]
          },
          "metadata": {}
        }
      ]
    },
    {
      "cell_type": "markdown",
      "metadata": {
        "id": "rxlAEedJdETZ"
      },
      "source": [
        "3) 업종별 재난지원금 사용액"
      ]
    },
    {
      "cell_type": "code",
      "metadata": {
        "colab": {
          "base_uri": "https://localhost:8080/"
        },
        "id": "AXwVKrtkc_s7",
        "outputId": "2d3edbb9-af58-4770-cbc1-5f44acfea0ab"
      },
      "source": [
        "sum_type2 = f_data.groupby(['Type']).DisSpent.sum().sort_values(ascending=False)\n",
        "sum_type2"
      ],
      "execution_count": 21,
      "outputs": [
        {
          "output_type": "execute_result",
          "data": {
            "text/plain": [
              "Type\n",
              "일반한식      6026486130\n",
              "서양음식      1006835289\n",
              "농축수산품      736762439\n",
              "스넥         549465856\n",
              "정육점        525556644\n",
              "일식회집       464192901\n",
              "제과점        425278927\n",
              "중국음식       378510089\n",
              "기타음료식품     289054636\n",
              "홍삼제품        58593413\n",
              "미곡상         17217510\n",
              "인삼제품          599660\n",
              "Name: DisSpent, dtype: int64"
            ]
          },
          "metadata": {},
          "execution_count": 21
        }
      ]
    },
    {
      "cell_type": "code",
      "metadata": {
        "colab": {
          "base_uri": "https://localhost:8080/",
          "height": 360
        },
        "id": "AcYG5HjUdO21",
        "outputId": "6307c0d5-8fe4-4407-82b3-3c88198c205f"
      },
      "source": [
        "plt.rc('font', family='NanumBarunGothic') \n",
        "\n",
        "fig = plt.figure()\n",
        "ax = fig.add_axes([0,0,2,1])\n",
        "x = sum_type2.index.values\n",
        "y = sum_type2.values\n",
        "ax.bar(x,y)\n",
        "plt.style.use('dark_background')\n",
        "plt.xlabel('업종')\n",
        "plt.ylabel('재난지원금 사용액')\n",
        "plt.show()"
      ],
      "execution_count": 22,
      "outputs": [
        {
          "output_type": "display_data",
          "data": {
            "image/png": "[encoded data removed]",
            "text/plain": [
              "<Figure size 432x288 with 1 Axes>"
            ]
          },
          "metadata": {}
        }
      ]
    },
    {
      "cell_type": "markdown",
      "metadata": {
        "id": "dW7YUS6fdtQh"
      },
      "source": [
        "#### 음식점 및 식자재 업종만 추출하여 해당 업종의 분류별 매출과 재난지원금을 살펴보았다.\n",
        "#### ==> 그 결과, 매출이 압도적으로 높은 '일반한식'이 재난지원금 사용액도 압도적으로 높게 나타났음을 알 수 있다.  "
      ]
    },
    {
      "cell_type": "markdown",
      "metadata": {
        "id": "C7HpzYrffSjZ"
      },
      "source": [
        "4) 음식점의 대체재인 편의점 매출액"
      ]
    },
    {
      "cell_type": "code",
      "metadata": {
        "colab": {
          "base_uri": "https://localhost:8080/",
          "height": 419
        },
        "id": "eXaiZx4ffbm-",
        "outputId": "bb71771c-0ec7-4444-cad3-fa2d1bc0336c"
      },
      "source": [
        "m_data = pd.DataFrame(mergedf, columns=['YM', 'SIDO', 'SIGUNGU', 'FranClass', 'Type', 'TotalSpent', 'DisSpent', 'POINT_X', 'POINT_Y'])\n",
        "\n",
        "targets2 = ['일반한식', '서양음식', '농축수산품', '편의점', '구내매점']\n",
        "\n",
        "f_data2 = m_data.loc[m_data['Type'].isin(targets2)]\n",
        "\n",
        "f_data2.reset_index(drop=True, inplace=True)\n",
        "\n",
        "f_data2"
      ],
      "execution_count": 40,
      "outputs": [
        {
          "output_type": "execute_result",
          "data": {
            "text/html": [
              "<div>\n",
              "<style scoped>\n",
              "    .dataframe tbody tr th:only-of-type {\n",
              "        vertical-align: middle;\n",
              "    }\n",
              "\n",
              "    .dataframe tbody tr th {\n",
              "        vertical-align: top;\n",
              "    }\n",
              "\n",
              "    .dataframe thead th {\n",
              "        text-align: right;\n",
              "    }\n",
              "</style>\n",
              "<table border=\"1\" class=\"dataframe\">\n",
              "  <thead>\n",
              "    <tr style=\"text-align: right;\">\n",
              "      <th></th>\n",
              "      <th>YM</th>\n",
              "      <th>SIDO</th>\n",
              "      <th>SIGUNGU</th>\n",
              "      <th>FranClass</th>\n",
              "      <th>Type</th>\n",
              "      <th>TotalSpent</th>\n",
              "      <th>DisSpent</th>\n",
              "      <th>POINT_X</th>\n",
              "      <th>POINT_Y</th>\n",
              "    </tr>\n",
              "  </thead>\n",
              "  <tbody>\n",
              "    <tr>\n",
              "      <th>0</th>\n",
              "      <td>202005</td>\n",
              "      <td>제주특별자치도</td>\n",
              "      <td>제주시</td>\n",
              "      <td>영세</td>\n",
              "      <td>일반한식</td>\n",
              "      <td>363000</td>\n",
              "      <td>66500</td>\n",
              "      <td>877005.9834</td>\n",
              "      <td>1.479766e+06</td>\n",
              "    </tr>\n",
              "    <tr>\n",
              "      <th>1</th>\n",
              "      <td>202005</td>\n",
              "      <td>제주특별자치도</td>\n",
              "      <td>제주시</td>\n",
              "      <td>중소1</td>\n",
              "      <td>편의점</td>\n",
              "      <td>157670</td>\n",
              "      <td>6850</td>\n",
              "      <td>877056.6756</td>\n",
              "      <td>1.479616e+06</td>\n",
              "    </tr>\n",
              "    <tr>\n",
              "      <th>2</th>\n",
              "      <td>202005</td>\n",
              "      <td>제주특별자치도</td>\n",
              "      <td>제주시</td>\n",
              "      <td>영세</td>\n",
              "      <td>편의점</td>\n",
              "      <td>46600</td>\n",
              "      <td>0</td>\n",
              "      <td>877055.9593</td>\n",
              "      <td>1.479766e+06</td>\n",
              "    </tr>\n",
              "    <tr>\n",
              "      <th>3</th>\n",
              "      <td>202005</td>\n",
              "      <td>제주특별자치도</td>\n",
              "      <td>제주시</td>\n",
              "      <td>영세</td>\n",
              "      <td>서양음식</td>\n",
              "      <td>26000</td>\n",
              "      <td>26000</td>\n",
              "      <td>877377.1167</td>\n",
              "      <td>1.485765e+06</td>\n",
              "    </tr>\n",
              "    <tr>\n",
              "      <th>4</th>\n",
              "      <td>202005</td>\n",
              "      <td>제주특별자치도</td>\n",
              "      <td>제주시</td>\n",
              "      <td>중소1</td>\n",
              "      <td>편의점</td>\n",
              "      <td>215910</td>\n",
              "      <td>34250</td>\n",
              "      <td>877430.6790</td>\n",
              "      <td>1.485016e+06</td>\n",
              "    </tr>\n",
              "    <tr>\n",
              "      <th>...</th>\n",
              "      <td>...</td>\n",
              "      <td>...</td>\n",
              "      <td>...</td>\n",
              "      <td>...</td>\n",
              "      <td>...</td>\n",
              "      <td>...</td>\n",
              "      <td>...</td>\n",
              "      <td>...</td>\n",
              "      <td>...</td>\n",
              "    </tr>\n",
              "    <tr>\n",
              "      <th>498327</th>\n",
              "      <td>202008</td>\n",
              "      <td>제주특별자치도</td>\n",
              "      <td>제주시</td>\n",
              "      <td>영세</td>\n",
              "      <td>일반한식</td>\n",
              "      <td>23500</td>\n",
              "      <td>0</td>\n",
              "      <td>950266.5976</td>\n",
              "      <td>1.502458e+06</td>\n",
              "    </tr>\n",
              "    <tr>\n",
              "      <th>498328</th>\n",
              "      <td>202008</td>\n",
              "      <td>제주특별자치도</td>\n",
              "      <td>제주시</td>\n",
              "      <td>영세</td>\n",
              "      <td>편의점</td>\n",
              "      <td>13700</td>\n",
              "      <td>0</td>\n",
              "      <td>950266.5976</td>\n",
              "      <td>1.502458e+06</td>\n",
              "    </tr>\n",
              "    <tr>\n",
              "      <th>498329</th>\n",
              "      <td>202008</td>\n",
              "      <td>제주특별자치도</td>\n",
              "      <td>제주시</td>\n",
              "      <td>영세</td>\n",
              "      <td>일반한식</td>\n",
              "      <td>56000</td>\n",
              "      <td>0</td>\n",
              "      <td>950317.5379</td>\n",
              "      <td>1.502258e+06</td>\n",
              "    </tr>\n",
              "    <tr>\n",
              "      <th>498330</th>\n",
              "      <td>202008</td>\n",
              "      <td>제주특별자치도</td>\n",
              "      <td>제주시</td>\n",
              "      <td>영세</td>\n",
              "      <td>일반한식</td>\n",
              "      <td>28000</td>\n",
              "      <td>0</td>\n",
              "      <td>950469.1585</td>\n",
              "      <td>1.501909e+06</td>\n",
              "    </tr>\n",
              "    <tr>\n",
              "      <th>498331</th>\n",
              "      <td>202008</td>\n",
              "      <td>제주특별자치도</td>\n",
              "      <td>제주시</td>\n",
              "      <td>영세</td>\n",
              "      <td>서양음식</td>\n",
              "      <td>9000</td>\n",
              "      <td>0</td>\n",
              "      <td>950565.5176</td>\n",
              "      <td>1.502659e+06</td>\n",
              "    </tr>\n",
              "  </tbody>\n",
              "</table>\n",
              "<p>498332 rows × 9 columns</p>\n",
              "</div>"
            ],
            "text/plain": [
              "            YM     SIDO SIGUNGU  ... DisSpent      POINT_X       POINT_Y\n",
              "0       202005  제주특별자치도     제주시  ...    66500  877005.9834  1.479766e+06\n",
              "1       202005  제주특별자치도     제주시  ...     6850  877056.6756  1.479616e+06\n",
              "2       202005  제주특별자치도     제주시  ...        0  877055.9593  1.479766e+06\n",
              "3       202005  제주특별자치도     제주시  ...    26000  877377.1167  1.485765e+06\n",
              "4       202005  제주특별자치도     제주시  ...    34250  877430.6790  1.485016e+06\n",
              "...        ...      ...     ...  ...      ...          ...           ...\n",
              "498327  202008  제주특별자치도     제주시  ...        0  950266.5976  1.502458e+06\n",
              "498328  202008  제주특별자치도     제주시  ...        0  950266.5976  1.502458e+06\n",
              "498329  202008  제주특별자치도     제주시  ...        0  950317.5379  1.502258e+06\n",
              "498330  202008  제주특별자치도     제주시  ...        0  950469.1585  1.501909e+06\n",
              "498331  202008  제주특별자치도     제주시  ...        0  950565.5176  1.502659e+06\n",
              "\n",
              "[498332 rows x 9 columns]"
            ]
          },
          "metadata": {},
          "execution_count": 40
        }
      ]
    },
    {
      "cell_type": "code",
      "metadata": {
        "colab": {
          "base_uri": "https://localhost:8080/"
        },
        "id": "WOwn2zfJf78U",
        "outputId": "de2fddb6-e036-45f9-a704-84d664592163"
      },
      "source": [
        "f_data2['Type'].unique()"
      ],
      "execution_count": 41,
      "outputs": [
        {
          "output_type": "execute_result",
          "data": {
            "text/plain": [
              "array(['일반한식', '편의점', '서양음식', '농축수산품', '구내매점'], dtype=object)"
            ]
          },
          "metadata": {},
          "execution_count": 41
        }
      ]
    },
    {
      "cell_type": "code",
      "metadata": {
        "colab": {
          "base_uri": "https://localhost:8080/"
        },
        "id": "nZzNaeLuf9qf",
        "outputId": "19a6ab33-c6f3-46e7-c4bc-3bfdb59dbc5f"
      },
      "source": [
        "sum2_type = f_data2.groupby(['Type']).TotalSpent.sum().sort_values(ascending=False)\n",
        "sum2_type"
      ],
      "execution_count": 42,
      "outputs": [
        {
          "output_type": "execute_result",
          "data": {
            "text/plain": [
              "Type\n",
              "일반한식     119782556296\n",
              "편의점       39477932065\n",
              "서양음식      26851921875\n",
              "농축수산품     14860792092\n",
              "구내매점        451357406\n",
              "Name: TotalSpent, dtype: int64"
            ]
          },
          "metadata": {},
          "execution_count": 42
        }
      ]
    },
    {
      "cell_type": "code",
      "metadata": {
        "colab": {
          "base_uri": "https://localhost:8080/",
          "height": 360
        },
        "id": "PFvBkQLtgLb7",
        "outputId": "e0a26da0-919a-4a6e-c62f-bc47ac9d2a18"
      },
      "source": [
        "plt.rc('font', family='NanumBarunGothic') \n",
        "\n",
        "fig = plt.figure()\n",
        "ax = fig.add_axes([0,0,0.7,1])\n",
        "x = sum2_type.index.values\n",
        "y = sum2_type.values\n",
        "ax.bar(x,y)\n",
        "plt.style.use('dark_background')\n",
        "plt.xlabel('업종')\n",
        "plt.ylabel('매출')\n",
        "plt.show()"
      ],
      "execution_count": 43,
      "outputs": [
        {
          "output_type": "display_data",
          "data": {
            "image/png": "[encoded data removed]",
            "text/plain": [
              "<Figure size 432x288 with 1 Axes>"
            ]
          },
          "metadata": {}
        }
      ]
    },
    {
      "cell_type": "markdown",
      "metadata": {
        "id": "Vw-eIIBcgh0z"
      },
      "source": [
        "5) 편의점 재난지원금 사용액"
      ]
    },
    {
      "cell_type": "code",
      "metadata": {
        "colab": {
          "base_uri": "https://localhost:8080/"
        },
        "id": "l0OEQBI3gjzB",
        "outputId": "977150d4-ed5e-45f1-8c3d-5ddd2f94c8ed"
      },
      "source": [
        "sum2_type2 = f_data2.groupby(['Type']).DisSpent.sum().sort_values(ascending=False)\n",
        "sum2_type2"
      ],
      "execution_count": 44,
      "outputs": [
        {
          "output_type": "execute_result",
          "data": {
            "text/plain": [
              "Type\n",
              "일반한식     6026486130\n",
              "편의점      2022731930\n",
              "서양음식     1006835289\n",
              "농축수산품     736762439\n",
              "구내매점       28458447\n",
              "Name: DisSpent, dtype: int64"
            ]
          },
          "metadata": {},
          "execution_count": 44
        }
      ]
    },
    {
      "cell_type": "code",
      "metadata": {
        "colab": {
          "base_uri": "https://localhost:8080/",
          "height": 360
        },
        "id": "SBUQopNIguyx",
        "outputId": "9185e282-83b3-48ec-9100-d663c6a972ce"
      },
      "source": [
        "plt.rc('font', family='NanumBarunGothic') \n",
        "\n",
        "fig = plt.figure()\n",
        "ax = fig.add_axes([0,0,0.7,1])\n",
        "x = sum2_type2.index.values\n",
        "y = sum2_type2.values\n",
        "ax.bar(x,y)\n",
        "plt.style.use('dark_background')\n",
        "plt.xlabel('업종')\n",
        "plt.ylabel('재난지원금 사용액')\n",
        "plt.show()"
      ],
      "execution_count": 45,
      "outputs": [
        {
          "output_type": "display_data",
          "data": {
            "image/png": "[encoded data removed]",
            "text/plain": [
              "<Figure size 432x288 with 1 Axes>"
            ]
          },
          "metadata": {}
        }
      ]
    },
    {
      "cell_type": "markdown",
      "metadata": {
        "id": "QpbZuRw6hBeu"
      },
      "source": [
        "#### 음식점 업종만 비교했을 시에는 매출과 재난지원금 사용액이 '일반한식' -> '서양음식' -> '농축수산품' 순으로 나타났다.\n",
        "#### 집합금지로 인한 음식점 대체재인 편의점의 수요가 높았을 것이라 예측했는데, '일반한식' -> '편의점' -> '서양음식' -> '농축수산품' 순으로 나타나, 역시 편의점의 수요가 높았음을 알 수 있다. (이어서 '연령', '소득', '지역'과의 상관관계를 분석하면 해당 통계의 관계가 더욱 명확해질 것이다.)"
      ]
    },
    {
      "cell_type": "markdown",
      "metadata": {
        "id": "4tyCNX1QKFLo"
      },
      "source": [
        "#Ⅲ. 임대료 현황 (제주 상권별)"
      ]
    },
    {
      "cell_type": "markdown",
      "metadata": {
        "id": "4uets_Ifk0RP"
      },
      "source": [
        "# Ⅳ. 상가 권리금 현황 (전국, 제주)"
      ]
    },
    {
      "cell_type": "markdown",
      "metadata": {
        "id": "Fw_7EYhLk9KK"
      },
      "source": [
        "# Ⅴ. 상가(부동산) 순영업소득 (제주상권별)"
      ]
    },
    {
      "cell_type": "markdown",
      "metadata": {
        "id": "NsMUC-K2lGUH"
      },
      "source": [
        "# Ⅵ. 월평균 소득 (제주지역별)"
      ]
    },
    {
      "cell_type": "markdown",
      "metadata": {
        "id": "w0NH1moZlOPU"
      },
      "source": [
        "# Ⅶ. 인구수 (제주 행정시,읍면동별)"
      ]
    },
    {
      "cell_type": "markdown",
      "metadata": {
        "id": "epG21VbAlWeF"
      },
      "source": [
        "# 최종 분석 결과"
      ]
    },
    {
      "cell_type": "markdown",
      "metadata": {
        "id": "e_-NhcGDlbMs"
      },
      "source": [
        "# 비즈니스 인사이트 도출"
      ]
    }
  ]
}